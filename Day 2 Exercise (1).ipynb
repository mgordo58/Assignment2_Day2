{
 "cells": [
  {
   "cell_type": "markdown",
   "metadata": {},
   "source": [
    "## Exercises\n",
    "### Write the pseudocode for these problems. \n",
    "\n",
    "#### Define the problem by constructing an IPO diagram showing input, output, and processing steps\n",
    "Ask yourself\n",
    "- What control structures (sequence, selection and repetition) are required?\n",
    "- What variables are required?\n",
    "\n",
    "Show a check of your solution with **test data** for at least **two valid test cases**\n",
    "If you use the numbers provided in the example then the correct pseudocode will calculate the same result.\n",
    "    "
   ]
  },
  {
   "cell_type": "markdown",
   "metadata": {},
   "source": [
    "#### 1. Find the average score\n",
    "A program is needed to prompt the user operator for ten exam scores, calculate the average score and display the result to the screen. The average score is calculated as the sum of the scores divided by the number of scores."
   ]
  },
  {
   "cell_type": "markdown",
   "metadata": {},
   "source": [
    "BEGIN\n",
    "\tSet sum = 0\n",
    "\tLOOP 10 times\n",
    "\t\tPrompt user for a number\n",
    "\t\tAdd a number to sum\n",
    "\tENDLOOP\n",
    "\tavg = sum / 10\n",
    "\tDisplay avg to user\n",
    "END\n"
   ]
  },
  {
   "cell_type": "markdown",
   "metadata": {},
   "source": [
    "#### 2. How much water runs off a roof in a rain storm?\n",
    "To calculate the runoff from any given rainfall: Take the dimensions of the footprint of the roof and convert them to inches. (So, a 50' x 20' roof is 600\" x 240\"). Multiply the roof dimensions by the number of inches of rainfall. As an example, 600\" x 240\" x 1\" = 144,000 cubic inches of water for an inch of rainfall. Divide that result by 231 to get the number of gallons (because 1 gallon = 231 cubic inches). (144,000/231 = 623.38)."
   ]
  },
  {
   "cell_type": "markdown",
   "metadata": {},
   "source": [
    "BEGIN\n",
    "\tSet sum = 144,000\n",
    "\t\tPrompt user for inches of rain fall\n",
    "        inches of rainfall * sum = cubic inch of rainfall\n",
    "        cubic in of rainfall / 231 = rainfall in gal\n",
    "        OUTPUT gal\n",
    "END"
   ]
  },
  {
   "cell_type": "markdown",
   "metadata": {},
   "source": [
    "#### 3. Process customer record\n",
    "A program is required to read a customer’s name, a purchase amount and a tax code. The tax code has been validated and will be one of the following: 0 tax exempt (0%) 1 state sales tax only (3%) 2 federal and state sales tax (5%) 3 special sales tax (7%) The program must then compute the sales tax and the total amount due,and print the customer’s name, purchase amount, sales tax and total amount due."
   ]
  },
  {
   "cell_type": "markdown",
   "metadata": {},
   "source": [
    "BEGIN\n",
    "\tSet sum = 0\n",
    "\tINPUT Customer name\n",
    "    INPUT Purchase amount\n",
    "\tPrompt user for a tax code\n",
    "\t\tIF tax code = 0 \n",
    "            THEN sale's tax = 0%\n",
    "        IF/ELSE Tax code = 1\n",
    "            THEN sale's tax = 3%\n",
    "        IF/ELSE Tax code = 2\n",
    "            THEN Sale's tax = 5%\n",
    "        IF/ELSE Tax code = 3\n",
    "            THEN Sale's tax = 7%\n",
    "    Purchase amount * sale's tax = tax amount\n",
    "    Purchase amount + tax amount = sale total\n",
    "    OUTPUT Customer name\n",
    "    OUTPUT Purchase amount\n",
    "    OUTPUT Tax amount\n",
    "    OUTPUT Sale total\n",
    "END"
   ]
  },
  {
   "cell_type": "markdown",
   "metadata": {},
   "source": [
    "#### 4. Calculate employee's pay \n",
    "A program is required by a company to read an employee’s number, pay rate and the number of hours worked in a week. The program is then to validate the pay rate field and the hours worked field and, if valid, compute the employee’s weekly pay and then print it and the input data.\n",
    "\n",
    "Validation: According to the company’s rules, the maximum hours an employee can work per week is 60 hours, and the maximum hourly rate is $25.00 per hour. If the hours worked field or the hourly rate field is out of range, the input data and an appropriate message are to be printed and the employee’s weekly pay is not to be calculated.\n",
    "\n",
    "Weekly pay calculation: Weekly pay is calculated as hours worked times pay rate. If more than 35 hours are worked, payment for the overtime hours worked is calculated at time-and-a-half."
   ]
  },
  {
   "cell_type": "markdown",
   "metadata": {},
   "source": [
    "BEGIN\n",
    "\tSet sum = 0\n",
    "\tINPUT Employee's number\n",
    "    INPUT Pay Rate\n",
    "    INPUT Hours Worked\n",
    "        LOOP\n",
    "\t\tPrompt user for Hours Worked\n",
    "            IF Hours Worked > 60\n",
    "                OUTPUT Hours Worked \"is incorrect value input correct value\"\n",
    "                GOTO Hours Worked prompt\n",
    "            ELSE ENDLOOP\n",
    "        LOOP\n",
    "        Prompt user for Pay Rate\n",
    "            IF Pay Rate > $25.00\n",
    "                OUTPUT Pay Rate \"is incorrect value input correct value\"\n",
    "                GOTO Pay Rate prompt\n",
    "            ELSE ENDLOOP\n",
    "    IF Hours Worked > 35\n",
    "        Hours Worked - 35 = Overtime hours\n",
    "        Pay Rate / 2 = Half pay\n",
    "        Pay Rate + Half pay = Time and a half pay\n",
    "        (35 * Pay Rate) + (Overtime hour's * Time and a half pay) = Weekly pay  \n",
    "    ELSE Hours worked * Pay rate = Weekly pay   \n",
    "    OUTPUT Employee's number\n",
    "    OUTPUT Pay Rate\n",
    "    OUTPUT Hours Worked\n",
    "    OUTPUT Weekly pay\n",
    "END"
   ]
  },
  {
   "cell_type": "code",
   "execution_count": null,
   "metadata": {},
   "outputs": [],
   "source": []
  }
 ],
 "metadata": {
  "kernelspec": {
   "display_name": "Python 3 (ipykernel)",
   "language": "python",
   "name": "python3"
  },
  "language_info": {
   "codemirror_mode": {
    "name": "ipython",
    "version": 3
   },
   "file_extension": ".py",
   "mimetype": "text/x-python",
   "name": "python",
   "nbconvert_exporter": "python",
   "pygments_lexer": "ipython3",
   "version": "3.11.4"
  }
 },
 "nbformat": 4,
 "nbformat_minor": 2
}
